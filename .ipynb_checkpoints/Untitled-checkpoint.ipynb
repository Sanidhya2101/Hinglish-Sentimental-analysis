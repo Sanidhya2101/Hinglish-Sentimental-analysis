{
 "cells": [
  {
   "cell_type": "code",
   "execution_count": 68,
   "id": "21226ff4",
   "metadata": {},
   "outputs": [
    {
     "name": "stderr",
     "output_type": "stream",
     "text": [
      "[nltk_data] Downloading package punkt to\n",
      "[nltk_data]     C:\\Users\\Computer\\AppData\\Roaming\\nltk_data...\n",
      "[nltk_data]   Package punkt is already up-to-date!\n",
      "[nltk_data] Downloading package stopwords to\n",
      "[nltk_data]     C:\\Users\\Computer\\AppData\\Roaming\\nltk_data...\n",
      "[nltk_data]   Package stopwords is already up-to-date!\n"
     ]
    },
    {
     "data": {
      "text/plain": [
       "True"
      ]
     },
     "execution_count": 68,
     "metadata": {},
     "output_type": "execute_result"
    }
   ],
   "source": [
    "import pandas as pd\n",
    "import csv\n",
    "import re\n",
    "import torch\n",
    "import emoji\n",
    "from nltk.tokenize import word_tokenize\n",
    "from nltk.corpus import stopwords\n",
    "import nltk\n",
    "nltk.download('punkt')\n",
    "nltk.download('stopwords')"
   ]
  },
  {
   "cell_type": "code",
   "execution_count": 34,
   "id": "e158204a",
   "metadata": {},
   "outputs": [
    {
     "data": {
      "text/plain": [
       "device(type='cpu')"
      ]
     },
     "execution_count": 34,
     "metadata": {},
     "output_type": "execute_result"
    }
   ],
   "source": [
    "device = torch.device('cuda' if torch.cuda.is_available() else 'cpu')\n",
    "device"
   ]
  },
  {
   "cell_type": "code",
   "execution_count": 39,
   "id": "9d41e05d",
   "metadata": {},
   "outputs": [
    {
     "name": "stderr",
     "output_type": "stream",
     "text": [
      "C:\\Users\\Computer\\AppData\\Local\\Temp\\ipykernel_6660\\1885743290.py:1: ParserWarning: Falling back to the 'python' engine because the 'c' engine does not support regex separators (separators > 1 char and different from '\\s+' are interpreted as regex); you can avoid this warning by specifying engine='python'.\n",
      "  train_data = pd.read_csv('train.txt',sep=\"\\s\",header=None)\n"
     ]
    }
   ],
   "source": [
    "train_data = pd.read_csv('train.txt',sep=\"\\s\",header=None)\n",
    "test_data = pd.read_csv('test.txt',sep=\"\\t\",header=None)"
   ]
  },
  {
   "cell_type": "code",
   "execution_count": 40,
   "id": "5e87a596",
   "metadata": {},
   "outputs": [],
   "source": [
    "def get_data(raw_dataset):\n",
    "    dataset=[]\n",
    "    tmp1=[]\n",
    "    tmp2=[]\n",
    "\n",
    "\n",
    "    for i in range(len(raw_dataset)):\n",
    "        if raw_dataset[0][i]==\"meta\":\n",
    "            tmp3=\" \".join(tmp1)\n",
    "            dataset.append(tmp3)\n",
    "            tmp1=[]\n",
    "            tmp3=[]\n",
    "        elif raw_dataset[0][i]==\"@\":\n",
    "            continue\n",
    "        elif raw_dataset[0][i-1]==\"@\":\n",
    "            continue\n",
    "        else:\n",
    "            tmp1.append(str(raw_dataset[0][i]))\n",
    "    dataset.append(\" \".join(tmp1))\n",
    "    dataset.pop(0)\n",
    "\n",
    "\n",
    "    for i in range(len(dataset)):\n",
    "        if re.search(\"http[.]*\",dataset[i])!=None:\n",
    "            dataset[i]=dataset[i][:re.search(\"http[.]*\",dataset[i]).span()[0]]\n",
    "        else:\n",
    "            continue\n",
    "            \n",
    "    return dataset"
   ]
  },
  {
   "cell_type": "code",
   "execution_count": 59,
   "id": "6270acb6",
   "metadata": {},
   "outputs": [],
   "source": [
    "train_X = get_data(train_data)\n",
    "test_X = get_data(test_data)"
   ]
  },
  {
   "cell_type": "code",
   "execution_count": 65,
   "id": "9529aed5",
   "metadata": {},
   "outputs": [],
   "source": [
    "def emoji_free_text(text):\n",
    "    return emoji.replace_emoji(text,replace='')"
   ]
  },
  {
   "cell_type": "code",
   "execution_count": 66,
   "id": "2adc49c4",
   "metadata": {},
   "outputs": [],
   "source": [
    "for i in range(len(train_X)):\n",
    "    train_X[i] = emoji_free_text(train_X[i])\n",
    "    \n",
    "for i in range(len(test_X)):\n",
    "    test_X[i] = emoji_free_text(test_X[i])"
   ]
  },
  {
   "cell_type": "code",
   "execution_count": 69,
   "id": "b90d97f1",
   "metadata": {},
   "outputs": [],
   "source": [
    "sentiment=[]\n",
    "for i in range(len(raw_dataset)):\n",
    "    if raw_dataset[2][i]==\"positive\" or raw_dataset[2][i]==\"negative\" or raw_dataset[2][i]==\"neutral\":\n",
    "        sentiment.append(raw_dataset[2][i])"
   ]
  },
  {
   "cell_type": "code",
   "execution_count": 96,
   "id": "9ed90888",
   "metadata": {},
   "outputs": [],
   "source": [
    "train_set = [word_tokenize(tweet) for tweet in train_X]\n",
    "test_set = [word_tokenize(tweet) for tweet in test_X]"
   ]
  },
  {
   "cell_type": "code",
   "execution_count": 93,
   "id": "a77a8980",
   "metadata": {},
   "outputs": [],
   "source": [
    "def remove_stopwords(text_tokens):\n",
    "    updated_text = [word for word in text_tokens if not word in stopwords.words('English')]\n",
    "    return updated_text"
   ]
  },
  {
   "cell_type": "code",
   "execution_count": 97,
   "id": "c3bcb2ff",
   "metadata": {},
   "outputs": [],
   "source": [
    "for i in range(len(train_set)):\n",
    "    train_set[i]=remove_stopwords(train_set[i])\n",
    "    \n",
    "for i in range(len(test_set)):\n",
    "    test_set[i]=remove_stopwords(test_set[i])"
   ]
  },
  {
   "cell_type": "code",
   "execution_count": 95,
   "id": "6b82e877",
   "metadata": {},
   "outputs": [
    {
     "data": {
      "text/html": [
       "<div>\n",
       "<style scoped>\n",
       "    .dataframe tbody tr th:only-of-type {\n",
       "        vertical-align: middle;\n",
       "    }\n",
       "\n",
       "    .dataframe tbody tr th {\n",
       "        vertical-align: top;\n",
       "    }\n",
       "\n",
       "    .dataframe thead th {\n",
       "        text-align: right;\n",
       "    }\n",
       "</style>\n",
       "<table border=\"1\" class=\"dataframe\">\n",
       "  <thead>\n",
       "    <tr style=\"text-align: right;\">\n",
       "      <th></th>\n",
       "      <th>Tweet</th>\n",
       "      <th>sentiment</th>\n",
       "    </tr>\n",
       "  </thead>\n",
       "  <tbody>\n",
       "    <tr>\n",
       "      <th>0</th>\n",
       "      <td>[pakistan, ka, ghra, tauq, Pakistan, Israel, t...</td>\n",
       "      <td>negative</td>\n",
       "    </tr>\n",
       "    <tr>\n",
       "      <th>1</th>\n",
       "      <td>[Madarchod, mulle, ye, mathura, Nahi, dikha, t...</td>\n",
       "      <td>negative</td>\n",
       "    </tr>\n",
       "    <tr>\n",
       "      <th>2</th>\n",
       "      <td>[Manya, Pradhan, Mantri, mahoday, Shriman, Nar...</td>\n",
       "      <td>positive</td>\n",
       "    </tr>\n",
       "    <tr>\n",
       "      <th>3</th>\n",
       "      <td>[_, Krishna, Jcb, full, trend, chal, rahi, aa]</td>\n",
       "      <td>positive</td>\n",
       "    </tr>\n",
       "    <tr>\n",
       "      <th>4</th>\n",
       "      <td>[_, Loksabha, janta, sirf, modi, vote, rahi, k...</td>\n",
       "      <td>positive</td>\n",
       "    </tr>\n",
       "    <tr>\n",
       "      <th>...</th>\n",
       "      <td>...</td>\n",
       "      <td>...</td>\n",
       "    </tr>\n",
       "    <tr>\n",
       "      <th>15126</th>\n",
       "      <td>[What, shame, shame, na, kro, yeh, Narendra, m...</td>\n",
       "      <td>negative</td>\n",
       "    </tr>\n",
       "    <tr>\n",
       "      <th>15127</th>\n",
       "      <td>[_, Hariom, Who, BIJLI, mantri, People, dont, ...</td>\n",
       "      <td>negative</td>\n",
       "    </tr>\n",
       "    <tr>\n",
       "      <th>15128</th>\n",
       "      <td>[_, bjp, Musalman, ke, naam, pe, kalank, …]</td>\n",
       "      <td>negative</td>\n",
       "    </tr>\n",
       "    <tr>\n",
       "      <th>15129</th>\n",
       "      <td>[_, Mishra, To, phir, bjp, ke, leader, vikas, ...</td>\n",
       "      <td>negative</td>\n",
       "    </tr>\n",
       "    <tr>\n",
       "      <th>15130</th>\n",
       "      <td>[ISS, ko, wale, doglepan, I, alawa, kuch, bhi,...</td>\n",
       "      <td>negative</td>\n",
       "    </tr>\n",
       "  </tbody>\n",
       "</table>\n",
       "<p>15131 rows × 2 columns</p>\n",
       "</div>"
      ],
      "text/plain": [
       "                                                   Tweet sentiment\n",
       "0      [pakistan, ka, ghra, tauq, Pakistan, Israel, t...  negative\n",
       "1      [Madarchod, mulle, ye, mathura, Nahi, dikha, t...  negative\n",
       "2      [Manya, Pradhan, Mantri, mahoday, Shriman, Nar...  positive\n",
       "3         [_, Krishna, Jcb, full, trend, chal, rahi, aa]  positive\n",
       "4      [_, Loksabha, janta, sirf, modi, vote, rahi, k...  positive\n",
       "...                                                  ...       ...\n",
       "15126  [What, shame, shame, na, kro, yeh, Narendra, m...  negative\n",
       "15127  [_, Hariom, Who, BIJLI, mantri, People, dont, ...  negative\n",
       "15128        [_, bjp, Musalman, ke, naam, pe, kalank, …]  negative\n",
       "15129  [_, Mishra, To, phir, bjp, ke, leader, vikas, ...  negative\n",
       "15130  [ISS, ko, wale, doglepan, I, alawa, kuch, bhi,...  negative\n",
       "\n",
       "[15131 rows x 2 columns]"
      ]
     },
     "execution_count": 95,
     "metadata": {},
     "output_type": "execute_result"
    }
   ],
   "source": [
    "data=pd.DataFrame({\"Tweet\": train_set,\"sentiment\":sentiment})\n",
    "data"
   ]
  },
  {
   "cell_type": "code",
   "execution_count": 100,
   "id": "26b652b1",
   "metadata": {},
   "outputs": [],
   "source": []
  }
 ],
 "metadata": {
  "kernelspec": {
   "display_name": "Python 3 (ipykernel)",
   "language": "python",
   "name": "python3"
  },
  "language_info": {
   "codemirror_mode": {
    "name": "ipython",
    "version": 3
   },
   "file_extension": ".py",
   "mimetype": "text/x-python",
   "name": "python",
   "nbconvert_exporter": "python",
   "pygments_lexer": "ipython3",
   "version": "3.10.2"
  }
 },
 "nbformat": 4,
 "nbformat_minor": 5
}
